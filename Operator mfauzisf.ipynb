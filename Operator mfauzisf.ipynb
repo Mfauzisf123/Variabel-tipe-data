{
 "cells": [
  {
   "cell_type": "markdown",
   "id": "a7418210",
   "metadata": {},
   "source": [
    "\n",
    "<h1>Operator</h1>\n",
    "\n",
    "    "
   ]
  },
  {
   "cell_type": "code",
   "execution_count": 4,
   "id": "6d06bf13",
   "metadata": {},
   "outputs": [
    {
     "name": "stdout",
     "output_type": "stream",
     "text": [
      "27\n",
      "13\n",
      "140\n",
      "2.857142857142857\n",
      "2\n",
      "1280000000\n",
      "6\n"
     ]
    }
   ],
   "source": [
    "num1 = 20\n",
    "num2 = 7\n",
    "\n",
    "hasil_jumlah = num1 + num2\n",
    "hasil_kurang = num1 - num2\n",
    "hasil_kali = num1 * num2\n",
    "hasil_bagi = num1 / num2\n",
    "hasil_bagi_bulat = num1 // num2\n",
    "hasil_pangkat = num1 ** num2\n",
    "hasil_modulus = num1 % num2\n",
    "\n",
    "print(hasil_jumlah)\n",
    "print(hasil_kurang)\n",
    "print(hasil_kali)\n",
    "print(hasil_bagi)\n",
    "print(hasil_bagi_bulat)\n",
    "print(hasil_pangkat)\n",
    "print(hasil_modulus)\n",
    "\n",
    "\n",
    "\n",
    "\n",
    "\n",
    "\n",
    "\n",
    "\n"
   ]
  },
  {
   "cell_type": "markdown",
   "id": "790889b5",
   "metadata": {},
   "source": [
    "<h1>Oprator penugasan</h1>\n"
   ]
  },
  {
   "cell_type": "code",
   "execution_count": 6,
   "id": "a593633c",
   "metadata": {},
   "outputs": [
    {
     "name": "stdout",
     "output_type": "stream",
     "text": [
      "10\n",
      "15\n",
      "13\n",
      "91\n",
      "15.166666666666666\n",
      "1.0\n",
      "1.0\n",
      "1.0\n"
     ]
    }
   ],
   "source": [
    "x = 10\n",
    "print(x) #10\n",
    "x += 5   #x = x + 5\n",
    "print(x) #15\n",
    "x -= 2   #x = x - 2\n",
    "print(x) #13\n",
    "x *= 7   #x = x * 7\n",
    "print(x) #14\n",
    "x /= 6   #x = x / 6\n",
    "print(x) #12\n",
    "x //= 8  #x = x // 8\n",
    "print(x) #16\n",
    "x **= 3  #x = x ** 3\n",
    "print(x) #9\n",
    "x %= 10  #x = x % 10\n",
    "print(x) #20"
   ]
  },
  {
   "cell_type": "markdown",
   "id": "e48a83db",
   "metadata": {},
   "source": [
    "<h1>Oprator perbandingan</h1>"
   ]
  },
  {
   "cell_type": "code",
   "execution_count": 7,
   "id": "a0dc2e80",
   "metadata": {},
   "outputs": [
    {
     "name": "stdout",
     "output_type": "stream",
     "text": [
      "False\n",
      "True\n",
      "False\n",
      "True\n",
      "True\n",
      "True\n"
     ]
    }
   ],
   "source": [
    "y = 5\n",
    "z = 6\n",
    "\n",
    "print(y==z) #False\n",
    "print(y!=z) #True\n",
    "print(y>z)  #False\n",
    "print(y<z)  #True\n",
    "print(y>=5) #True\n",
    "print(y<=6) #True\n"
   ]
  },
  {
   "cell_type": "markdown",
   "id": "0764db7d",
   "metadata": {},
   "source": [
    "<h1>Operator Logika</h1>"
   ]
  },
  {
   "cell_type": "code",
   "execution_count": 9,
   "id": "300fd486",
   "metadata": {},
   "outputs": [
    {
     "name": "stdout",
     "output_type": "stream",
     "text": [
      "True\n",
      "True\n",
      "False\n"
     ]
    }
   ],
   "source": [
    "val1 = 10\n",
    "val2 = 5\n",
    "\n",
    "opr_and = val1 > val2 and val1 < 11 #True\n",
    "opr_or = val1 == 9 or val2 >=5 #True\n",
    "opr_not = not(opr_and and opr_or) #False\n",
    "\n",
    "print(opr_and)\n",
    "print(opr_or)\n",
    "print(opr_not)\n",
    "\n"
   ]
  },
  {
   "cell_type": "markdown",
   "id": "7c7d95c4",
   "metadata": {},
   "source": [
    "<h1>Operator indentitas</h1>"
   ]
  },
  {
   "cell_type": "code",
   "execution_count": 19,
   "id": "0a77b1ef",
   "metadata": {},
   "outputs": [
    {
     "name": "stdout",
     "output_type": "stream",
     "text": [
      "True\n",
      "False\n",
      "False\n",
      "True\n"
     ]
    }
   ],
   "source": [
    "fruits = [\"sirsak\",\"semangka\",\"jambu\"]\n",
    "fav_fruits = fruits\n",
    "your_fruits = [\"sirsak\",\"semangka\",\"jambu\"]\n",
    "\n",
    "#variabel singel\n",
    "name = \"uzi paling ganteng\"\n",
    "your_name = \"uzi paling ganteng\"\n",
    "\n",
    "\n",
    "print(fav_fruits is fruits) #True\n",
    "print(fruits is your_fruits) #False\n",
    "print(fav_fruits is not fruits)\n",
    "print(name is your_name)\n",
    "\n",
    "\n",
    "\n",
    "\n",
    "\n",
    "\n"
   ]
  },
  {
   "cell_type": "code",
   "execution_count": 20,
   "id": "9adb00ff",
   "metadata": {},
   "outputs": [
    {
     "name": "stdout",
     "output_type": "stream",
     "text": [
      "False\n",
      "True\n",
      "True\n",
      "False\n"
     ]
    }
   ],
   "source": [
    "city = [\"cianjur\",\"sukabumi\",\"bandung\"]\n",
    "\n",
    "print(\"jakarta\" in city)\n",
    "print(\"sukabumi\" in city)\n",
    "print(\"cianjur\" in city)\n",
    "print(\"bandung\" in city and \"cianjur\" not in city)"
   ]
  },
  {
   "cell_type": "markdown",
   "id": "9304e241",
   "metadata": {},
   "source": [
    "<h1>Operator Bitwise</h1>\n"
   ]
  },
  {
   "cell_type": "code",
   "execution_count": 27,
   "id": "41c9bdb9",
   "metadata": {},
   "outputs": [
    {
     "name": "stdout",
     "output_type": "stream",
     "text": [
      "15\n",
      "255\n",
      "240\n",
      "256\n",
      "16\n"
     ]
    }
   ],
   "source": [
    "nilai1 = 255\n",
    "nilai2 = 15\n",
    "bit_and = nilai1 & nilai2\n",
    "bit_or = nilai1 | nilai2\n",
    "bit_xor = nilai1 ^ nilai2\n",
    "\n",
    "print(bit_and)\n",
    "print(bit_or)\n",
    "print(bit_xor)\n",
    "\n",
    "#shift left\n",
    "print(128 << 1)\n",
    "#shift right\n",
    "print(128 >> 3)\n",
    "\n",
    "\n"
   ]
  },
  {
   "cell_type": "code",
   "execution_count": null,
   "id": "a2264286",
   "metadata": {},
   "outputs": [],
   "source": []
  }
 ],
 "metadata": {
  "kernelspec": {
   "display_name": "Python 3 (ipykernel)",
   "language": "python",
   "name": "python3"
  },
  "language_info": {
   "codemirror_mode": {
    "name": "ipython",
    "version": 3
   },
   "file_extension": ".py",
   "mimetype": "text/x-python",
   "name": "python",
   "nbconvert_exporter": "python",
   "pygments_lexer": "ipython3",
   "version": "3.9.12"
  }
 },
 "nbformat": 4,
 "nbformat_minor": 5
}
