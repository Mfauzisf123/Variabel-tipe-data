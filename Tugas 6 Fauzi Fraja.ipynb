{
 "cells": [
  {
   "cell_type": "code",
   "execution_count": 2,
   "id": "774ca6e4-b2a5-4a36-8228-144e05efb032",
   "metadata": {},
   "outputs": [
    {
     "name": "stdin",
     "output_type": "stream",
     "text": [
      "Masukan nilai coding anda : 50\n",
      "Masukan nilai interview anda : A\n"
     ]
    },
    {
     "name": "stdout",
     "output_type": "stream",
     "text": [
      "Maaf Kamu Belum Berhasil Menjadi Calon Programmer\n"
     ]
    }
   ],
   "source": [
    "nilai1 = int(input('Masukan nilai coding anda :'))\n",
    "nilai2 = input('Masukan nilai interview anda :')\n",
    "\n",
    "if nilai1 >= 80:\n",
    "    hasil_tes1 = 'LOLOS'\n",
    "elif nilai1 >= 60 :\n",
    "    hasil_tes1 = 'DIPERTIMBANGKAN'\n",
    "else:\n",
    "    hasil_tes1 = 'TIDAK LOLOS'\n",
    "    \n",
    "if nilai2 == 'A' or nilai2 == 'B':\n",
    "    hasil_tes2 = 'LOLOS'\n",
    "else:\n",
    "    hasil_tes2 = 'TIDAK LOLOS'\n",
    "    \n",
    "\n",
    "if hasil_tes1 == 'LOLOS' and hasil_tes2 == 'LOLOS':\n",
    "    print('Selamat Kamu Berhasil Menjadi Calon Programmer')\n",
    "elif hasil_tes1 =='DIPERTIMBANGKAN' and hasil_tes2 == 'LOLOS':\n",
    "    print('Selamat Kamu Berhasil Menjadi Calon Programmer')\n",
    "else:\n",
    "    print(\"Maaf Kamu Belum Berhasil Menjadi Calon Programmer\")\n"
   ]
  },
  {
   "cell_type": "code",
   "execution_count": null,
   "id": "27bcf16c-4514-451f-9398-b5b9b54bd634",
   "metadata": {},
   "outputs": [],
   "source": [
    "nomor_punggung = int(input(\"Masukkan nomor punggung pemain: \"))\n",
    "\n",
    "if nomor_punggung % 2 == 0:\n",
    "    if nomor_punggung > 50 and nomor_punggung <= 100:\n",
    "        print(\"Nomor punggung\", nomor_punggung, \"dapat digunakan untuk posisi 'capten team'\")\n",
    "    else:\n",
    "        print(\"Nomor punggung\", nomor_punggung, \"dapat digunakan untuk posisi 'target attacker'\")\n",
    "else:\n",
    "    if nomor_punggung > 90:\n",
    "        print(\"Nomor punggung\", nomor_punggung, \"dapat digunakan untuk posisi 'Playmaker'\")\n",
    "    elif nomor_punggung % 3 == 0 or nomor_punggung % 5 == 0:\n",
    "        print(\"Nomor punggung\", nomor_punggung, \"dapat digunakan untuk posisi 'keeper'\")\n",
    "    else:\n",
    "        print(\"Nomor punggung\", nomor_punggung, \"dapat digunakan untuk posisi 'defender'\")"
   ]
  }
 ],
 "metadata": {
  "kernelspec": {
   "display_name": "Python 3 (ipykernel)",
   "language": "python",
   "name": "python3"
  },
  "language_info": {
   "codemirror_mode": {
    "name": "ipython",
    "version": 3
   },
   "file_extension": ".py",
   "mimetype": "text/x-python",
   "name": "python",
   "nbconvert_exporter": "python",
   "pygments_lexer": "ipython3",
   "version": "3.11.7"
  }
 },
 "nbformat": 4,
 "nbformat_minor": 5
}
