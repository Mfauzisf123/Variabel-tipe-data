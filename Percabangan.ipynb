{
 "cells": [
  {
   "cell_type": "code",
   "execution_count": 5,
   "id": "9ea3bb77",
   "metadata": {},
   "outputs": [
    {
     "name": "stdout",
     "output_type": "stream",
     "text": [
      "dingin\n",
      "hari ini sangat cerah\n"
     ]
    }
   ],
   "source": [
    "cuaca = \"hujan\"\n",
    "if cuaca == \"hujan\":\n",
    "   print(\"dingin\")\n",
    "   print(\"hari ini sangat cerah\")"
   ]
  },
  {
   "cell_type": "code",
   "execution_count": 7,
   "id": "b2e83039",
   "metadata": {},
   "outputs": [
    {
     "name": "stdout",
     "output_type": "stream",
     "text": [
      "9 adalah bilangan ganjil\n"
     ]
    }
   ],
   "source": [
    "nilai = 9\n",
    "sisa_bagi = nilai % 2\n",
    "if sisa_bagi ==0:\n",
    "   print(\"{nilai} adalah bilangan genap\")\n",
    "else:\n",
    "    print(f\"{nilai} adalah bilangan ganjil\")\n",
    "    "
   ]
  },
  {
   "cell_type": "code",
   "execution_count": 28,
   "id": "6d84b312",
   "metadata": {},
   "outputs": [
    {
     "name": "stdout",
     "output_type": "stream",
     "text": [
      "insert nilai:-1\n",
      "input salah\n"
     ]
    }
   ],
   "source": [
    "nilai = int(input(\"insert nilai:\"))\n",
    "if nilai >=0 and nilai <=100:\n",
    "\n",
    "    if nilai <=49:\n",
    "        print(f\"{nilai} = E\")\n",
    "    elif nilai <=59:\n",
    "        print(f\"{nilai} = D\")\n",
    "    elif nilai <=64:\n",
    "        print(f\"{nilai} = C\")\n",
    "    elif nilai <=84:\n",
    "        print(f\"{nilai} = B\")\n",
    "    elif nilai <=100:\n",
    "        print(f\"{nilai} = A\")\n",
    "\n",
    "else:\n",
    "    print(\"input salah\")"
   ]
  },
  {
   "cell_type": "code",
   "execution_count": 37,
   "id": "ace6e938",
   "metadata": {},
   "outputs": [
    {
     "name": "stdout",
     "output_type": "stream",
     "text": [
      "isikan usernameuzi\n",
      "isikan passwordfauzi\n",
      "username salah\n"
     ]
    }
   ],
   "source": [
    "username = input('isikan username')\n",
    "password = input('isikan password')\n",
    "\n",
    "if username == 'fauzi':\n",
    "    if password == 'fauzi':\n",
    "        print('selamat datang{username}')\n",
    "    else:\n",
    "        print('password anda salah')\n",
    "else:\n",
    "    if password =='fauzi':\n",
    "        print('username salah')\n",
    "    else:\n",
    "        print('username dan password anda salah')\n",
    "    \n",
    "   "
   ]
  },
  {
   "cell_type": "code",
   "execution_count": null,
   "id": "a2c94c56",
   "metadata": {},
   "outputs": [],
   "source": [
    "nama = input(\"masukan nama:\")\n",
    "umur = input(\"masukan umur:\")\n",
    "tinggal = input(\"masukan tempat tinggal:\")\n",
    "tabungan = input(\"jumlah tabungan:\")\n",
    "\n",
    "if umur > 40:\n",
    "    if tinggal ==\"nevada\" or  tinggal==\"new work\" or tinggal==\"havana\":\n",
    "        if tabungan > 10000000:\n",
    "            pangkat = 'don'\n",
    "elif umur > 25:\n",
    "    if tinggal == \"new jersey\" or tinggal== \"mathana\" or tinggal==\"nevada\":\n",
    "        if tabuangan >1000000 and dollar > 2000000:\n",
    "           pangkat = 'underboss'\n",
    "elif umur > 18:\n",
    "    if tinggal == \"california\" or tinggal==\"detroit\" or tinggal==\"boston\":\n",
    "        if tabungan > 1000000:\n",
    "            pangkat ='capo'\n",
    "if pangkat !='':\n",
    "    print(f\"{name} kemungkinan anggota mafia dengan pangkat {pangkat}\")\n",
    "else:\n",
    "    print(f\"{name} tidak mencurigakan\")\n",
    "\n",
    "\n",
    "\n",
    "\n",
    "    \n",
    "    "
   ]
  },
  {
   "cell_type": "code",
   "execution_count": null,
   "id": "b046c1cc",
   "metadata": {},
   "outputs": [],
   "source": []
  },
  {
   "cell_type": "markdown",
   "id": "320d20d5",
   "metadata": {},
   "source": []
  },
  {
   "cell_type": "code",
   "execution_count": null,
   "id": "f1ebe1df",
   "metadata": {},
   "outputs": [],
   "source": []
  },
  {
   "cell_type": "code",
   "execution_count": null,
   "id": "3db68d06",
   "metadata": {},
   "outputs": [],
   "source": []
  }
 ],
 "metadata": {
  "kernelspec": {
   "display_name": "Python 3 (ipykernel)",
   "language": "python",
   "name": "python3"
  },
  "language_info": {
   "codemirror_mode": {
    "name": "ipython",
    "version": 3
   },
   "file_extension": ".py",
   "mimetype": "text/x-python",
   "name": "python",
   "nbconvert_exporter": "python",
   "pygments_lexer": "ipython3",
   "version": "3.9.12"
  }
 },
 "nbformat": 4,
 "nbformat_minor": 5
}
