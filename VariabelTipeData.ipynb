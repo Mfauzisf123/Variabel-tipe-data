{
 "cells": [
  {
   "cell_type": "markdown",
   "id": "297ae241",
   "metadata": {},
   "source": [
    "<h1>Variabel dan Tiper Data</h1><hr>\n",
    "Tipe Data pada python adalah:\n",
    "<ol>\n",
    "    <li>Float-(float)</li>\n",
    "    <li>String-(str)</li>\n",
    "    <li>Boolean-(bool)</li>\n",
    "    <li>Integer-(int)</li>\n",
    " </ol><hr>\n",
    " <font color= \"purpel\" Aturan Pernamaan Variabel:\n",
    " <ul>\n",
    "    <li>Tidak boleh menggunakan spasi</li>\n",
    "    <li>Bersifat case sensitive=> A !=</li>\n",
    "    <li>Terdiri dari huruf, angka dan karakter _ (underscore)</li>\n",
    "    <li>Diawali underscore atau huruf</li>\n",
    "    <li>Tidak boleh menggunakan reserved keyword</li>\n",
    " </li>\n",
    " \n",
    "    \n",
    " "
   ]
  },
  {
   "cell_type": "code",
   "execution_count": 23,
   "id": "8916a4ac",
   "metadata": {},
   "outputs": [
    {
     "name": "stdout",
     "output_type": "stream",
     "text": [
      "100\n",
      "50.6\n",
      "1\n",
      "True\n"
     ]
    }
   ],
   "source": [
    "data_integer = 100\n",
    "data_float = 50.6\n",
    "data_string  = \"1\"\n",
    "data_boolean = True\n",
    "\n",
    "data_string\n",
    "print(data_integer)\n",
    "print(data_float)\n",
    "print(data_string)\n",
    "print(data_boolean)\n",
    "dataku = 15000\n",
    "\n",
    "\n",
    "\n"
   ]
  },
  {
   "cell_type": "code",
   "execution_count": 8,
   "id": "d75c91ae",
   "metadata": {},
   "outputs": [
    {
     "name": "stdout",
     "output_type": "stream",
     "text": [
      "<class 'int'>\n",
      "<class 'float'>\n",
      "<class 'str'>\n",
      "<class 'bool'>\n"
     ]
    }
   ],
   "source": [
    "print(type(data_integer))\n",
    "print(type(data_float))\n",
    "print(type(data_string))\n",
    "print(type(data_boolean))\n"
   ]
  },
  {
   "cell_type": "markdown",
   "id": "bf422a5b",
   "metadata": {},
   "source": [
    "<h3><font color=\"red\"<i>Konversi Tipe data dari Integer ke (String,Float,Boolean)</h3>"
   ]
  },
  {
   "cell_type": "code",
   "execution_count": 10,
   "id": "114d57c0",
   "metadata": {},
   "outputs": [
    {
     "name": "stdout",
     "output_type": "stream",
     "text": [
      "input bilangan 1:30\n",
      "input bilangan 2:239\n",
      "30239\n"
     ]
    }
   ],
   "source": [
    "bil1 = input(\"input bilangan 1:\")\n",
    "bil2 = input(\"input bilangan 2:\")\n",
    "hasil = bil1 + bil2\n",
    "print(hasil)"
   ]
  },
  {
   "cell_type": "code",
   "execution_count": 26,
   "id": "c4ec0afc",
   "metadata": {},
   "outputs": [
    {
     "name": "stdout",
     "output_type": "stream",
     "text": [
      "1\n",
      "50\n",
      "1\n",
      "<class 'int'>\n",
      "<class 'int'>\n",
      "<class 'int'>\n"
     ]
    }
   ],
   "source": [
    "string_to_int = int(data_string)\n",
    "float_to_int = int(data_float)\n",
    "bool_to_int = int(data_boolean)\n",
    "\n",
    "print (string_to_int)\n",
    "print (float_to_int)\n",
    "print (bool_to_int)\n",
    "\n",
    "print(type(string_to_int))\n",
    "\n",
    "print(type(float_to_int))\n",
    "print(type(bool_to_int))"
   ]
  },
  {
   "cell_type": "code",
   "execution_count": 34,
   "id": "5e0e4841",
   "metadata": {},
   "outputs": [
    {
     "name": "stdout",
     "output_type": "stream",
     "text": [
      "1.0\n",
      "100.0\n",
      "1.0\n",
      "<class 'float'>\n",
      "<class 'float'>\n",
      "<class 'float'>\n"
     ]
    }
   ],
   "source": [
    "string_to_float = float(data_string)\n",
    "integer_to_float = float(data_integer)\n",
    "bool_to_float = float(data_boolean)\n",
    "\n",
    "print (string_to_float)\n",
    "print (integer_to_float)\n",
    "print (bool_to_float)\n",
    "\n",
    "print(type(string_to_float))\n",
    "print(type(integer_to_float))\n",
    "print(type(bool_to_float))"
   ]
  },
  {
   "cell_type": "code",
   "execution_count": 37,
   "id": "713eea99",
   "metadata": {},
   "outputs": [
    {
     "name": "stdout",
     "output_type": "stream",
     "text": [
      "True\n",
      "100\n",
      "50.6\n",
      "<class 'str'>\n",
      "<class 'str'>\n",
      "<class 'str'>\n"
     ]
    }
   ],
   "source": [
    "bool_to_str = str(data_boolean)\n",
    "integer_to_str= str(data_integer)\n",
    "float_to_str = str(data_float)\n",
    "\n",
    "print (bool_to_str)\n",
    "print (integer_to_str)\n",
    "print (float_to_str)\n",
    "\n",
    "print(type(bool_to_str))\n",
    "print(type(integer_to_str))\n",
    "print(type(float_to_str))"
   ]
  },
  {
   "cell_type": "code",
   "execution_count": null,
   "id": "e5eb8a81",
   "metadata": {},
   "outputs": [],
   "source": []
  },
  {
   "cell_type": "code",
   "execution_count": null,
   "id": "9382eb99",
   "metadata": {},
   "outputs": [],
   "source": []
  }
 ],
 "metadata": {
  "kernelspec": {
   "display_name": "Python 3 (ipykernel)",
   "language": "python",
   "name": "python3"
  },
  "language_info": {
   "codemirror_mode": {
    "name": "ipython",
    "version": 3
   },
   "file_extension": ".py",
   "mimetype": "text/x-python",
   "name": "python",
   "nbconvert_exporter": "python",
   "pygments_lexer": "ipython3",
   "version": "3.9.12"
  }
 },
 "nbformat": 4,
 "nbformat_minor": 5
}
