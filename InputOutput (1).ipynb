{
 "cells": [
  {
   "cell_type": "markdown",
   "id": "c9b81b76",
   "metadata": {},
   "source": [
    "<h1>input</h1>"
   ]
  },
  {
   "cell_type": "code",
   "execution_count": 1,
   "id": "f4b41930",
   "metadata": {},
   "outputs": [
    {
     "name": "stdout",
     "output_type": "stream",
     "text": [
      "insert your first nameFauzi\n",
      "Insert your middle nameganteng\n",
      "Insert your last nameseduniaaaaaaa\n",
      "hello Fauzi ganteng seduniaaaaaaa !!\n"
     ]
    }
   ],
   "source": [
    "first_name = input('insert your first name')\n",
    "middle_name = input('Insert your middle name')\n",
    "last_name = input('Insert your last name')\n",
    "\n",
    "print(\"hello\",first_name,middle_name,last_name,\"!!\")"
   ]
  },
  {
   "cell_type": "markdown",
   "id": "6eb78e8e",
   "metadata": {},
   "source": [
    "<h1>menghitung luas dan keliling persegi panjang</h1>\n"
   ]
  },
  {
   "cell_type": "code",
   "execution_count": 31,
   "id": "5d736525",
   "metadata": {
    "scrolled": true
   },
   "outputs": [
    {
     "name": "stdout",
     "output_type": "stream",
     "text": [
      "insert nilai_p13\n",
      "insert nilai_L20\n"
     ]
    }
   ],
   "source": [
    "nilai_p = input('insert nilai_p')\n",
    "nilai_L = input('insert nilai_L')\n",
    "\n",
    "Luas = int(nilai_p) * (nilai_L)\n",
    "keliling = 2 * (int(nilai_p) + int(nilai_L))\n",
    "print = (luas =\", Luas)\n",
    "print = (\"keliling\", keliling)\n",
    "\n"
   ]
  },
  {
   "cell_type": "markdown",
   "id": "4794c8fa",
   "metadata": {},
   "source": [
    "<h1>output</h1>"
   ]
  },
  {
   "cell_type": "code",
   "execution_count": 11,
   "id": "48dc25d6",
   "metadata": {},
   "outputs": [
    {
     "name": "stdout",
     "output_type": "stream",
     "text": [
      "08-desember-2004\n",
      "08\n",
      "desember\n",
      "2004\n",
      "08/desember/2004\n"
     ]
    }
   ],
   "source": [
    "print(\"08\",\"desember\",\"2004\",sep='-')\n",
    "print(\"08\",\"desember\",\"2004\",sep='\\n')\n",
    "print(\"08\",\"desember\",\"2004\",sep='/')"
   ]
  },
  {
   "cell_type": "code",
   "execution_count": 14,
   "id": "b089e268",
   "metadata": {},
   "outputs": [
    {
     "name": "stdout",
     "output_type": "stream",
     "text": [
      "1*****8*****4*****4."
     ]
    }
   ],
   "source": [
    "print(\"1\",\"8\",\"4\",\"4\",sep=\"*\" * 5, end=\".\")"
   ]
  },
  {
   "cell_type": "code",
   "execution_count": 15,
   "id": "d5b90147",
   "metadata": {},
   "outputs": [
    {
     "name": "stdout",
     "output_type": "stream",
     "text": [
      "luas persegi dengan lebar 10 dan panjang 20 =\n"
     ]
    }
   ],
   "source": [
    "l = 10\n",
    "p = 20\n",
    "\n",
    "print(\"luas persegi dengan lebar {} dan panjang {} =\".format(l,p,l*p))"
   ]
  },
  {
   "cell_type": "code",
   "execution_count": 20,
   "id": "734f8d0b",
   "metadata": {},
   "outputs": [
    {
     "name": "stdout",
     "output_type": "stream",
     "text": [
      "nama-nama bulan februari,januari\n"
     ]
    }
   ],
   "source": [
    "bulan1 = \"januari\"\n",
    "bulan2 = \"februari\"\n",
    "\n",
    "print(\"nama-nama bulan {1},{0}\".format(bulan1,bulan2))"
   ]
  },
  {
   "cell_type": "code",
   "execution_count": 24,
   "id": "2ac23f72",
   "metadata": {},
   "outputs": [
    {
     "name": "stdout",
     "output_type": "stream",
     "text": [
      "nama saya fauzi kevin\n"
     ]
    }
   ],
   "source": [
    "print(\"nama saya {fname} {lname}\".format(fname='fauzi',lname='kevin'))"
   ]
  },
  {
   "cell_type": "markdown",
   "id": "8cbe4174",
   "metadata": {},
   "source": [
    "<h1>indexing dan string</h1>\n"
   ]
  },
  {
   "cell_type": "code",
   "execution_count": 30,
   "id": "ee59f411",
   "metadata": {},
   "outputs": [
    {
     "name": "stdout",
     "output_type": "stream",
     "text": [
      "U\n",
      "i\n",
      "Universitas N\n",
      "niversitas Nusa Putra\n",
      "Nusa Putra\n",
      "a n\n"
     ]
    }
   ],
   "source": [
    "kampus = \"Universitas Nusa Putra\"\n",
    "print(kampus[0])\n",
    "print(kampus[2])\n",
    "\n",
    "print(kampus[0:13])\n",
    "print(kampus[1:])\n",
    "print(kampus[-10:])\n",
    "print(kampus[::-10])"
   ]
  },
  {
   "cell_type": "markdown",
   "id": "eb0c0259",
   "metadata": {},
   "source": [
    "<h1>interpolasi menggunakan string</h1>"
   ]
  },
  {
   "cell_type": "code",
   "execution_count": 4,
   "id": "0ee3bfe0",
   "metadata": {},
   "outputs": [
    {
     "name": "stdout",
     "output_type": "stream",
     "text": [
      "Luas persegi = 200\n",
      "keliling persegi = 60\n"
     ]
    }
   ],
   "source": [
    "p = 10\n",
    "l = 20\n",
    "\n",
    "print(f'Luas persegi = {l*p}')\n",
    "print(f'keliling persegi = {2*(p+l)}')"
   ]
  },
  {
   "cell_type": "markdown",
   "id": "6668bf17",
   "metadata": {},
   "source": [
    "<h1>fungsi</h1>"
   ]
  },
  {
   "cell_type": "code",
   "execution_count": 5,
   "id": "99cad6f9",
   "metadata": {},
   "outputs": [
    {
     "name": "stdout",
     "output_type": "stream",
     "text": [
      "['fauzi', 'udin', 'ujang']\n",
      "fauzi@udin@ujang\n"
     ]
    }
   ],
   "source": [
    "student_name = \"fauzi,udin,ujang\"\n",
    "\n",
    "print(student_name.split(','))\n",
    "print('@'.join(student_name.split(',')))"
   ]
  },
  {
   "cell_type": "code",
   "execution_count": 3,
   "id": "9a0e6373",
   "metadata": {},
   "outputs": [
    {
     "name": "stdout",
     "output_type": "stream",
     "text": [
      "masukan namafauzi fraja\n",
      "masukan tanggal lahir08/12/2004\n",
      "nama anda: fauzi fraja\n",
      "tgl lahir: 08\n",
      "bulan lahir: 12\n",
      "tahun lahir: 2004\n",
      "inisial : ff\n"
     ]
    }
   ],
   "source": [
    "nama = input(\"masukan nama\")\n",
    "tgl_lahir = input(\"masukan tanggal lahir\")\n",
    "\n",
    "tgls = tgl_lahir.split('/')\n",
    "namas = nama.split()\n",
    "nama1 = namas[0]\n",
    "nama2 = namas[1]\n",
    "\n",
    "print(f\"nama anda: {nama}\")\n",
    "print(f\"tgl lahir: {tgls[0]}\")\n",
    "print(f\"bulan lahir: {tgls[1]}\")\n",
    "print(f\"tahun lahir: {tgls[2]}\")\n",
    "print(f\"inisial : {nama1[0]}{nama2[0]}\")\n",
    "\n",
    "\n",
    "\n"
   ]
  },
  {
   "cell_type": "code",
   "execution_count": null,
   "id": "cd757b10",
   "metadata": {},
   "outputs": [],
   "source": []
  }
 ],
 "metadata": {
  "kernelspec": {
   "display_name": "Python 3 (ipykernel)",
   "language": "python",
   "name": "python3"
  },
  "language_info": {
   "codemirror_mode": {
    "name": "ipython",
    "version": 3
   },
   "file_extension": ".py",
   "mimetype": "text/x-python",
   "name": "python",
   "nbconvert_exporter": "python",
   "pygments_lexer": "ipython3",
   "version": "3.9.12"
  }
 },
 "nbformat": 4,
 "nbformat_minor": 5
}
