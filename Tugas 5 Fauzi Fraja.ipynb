{
 "cells": [
  {
   "cell_type": "code",
   "execution_count": null,
   "id": "d22b28f1-9d76-4cee-aabe-425c7e3ebca6",
   "metadata": {},
   "outputs": [],
   "source": [
    "name = input('Insert your name :')\n",
    "birthday = input('Insert your birthday :')\n",
    "major = input ('Insert your major :')\n",
    "campus = input('Insert your campus :')\n",
    "\n",
    "massage = 'Hello, {} Kamu lahir pada tanggal {} kamu berkuliah jurusan {} dan berkuliah di {}'.format(name, birthday, major, campus)\n",
    "print(massage)"
   ]
  },
  {
   "cell_type": "code",
   "execution_count": 6,
   "id": "3204b548-e862-44cb-b120-3de7c5069b77",
   "metadata": {},
   "outputs": [
    {
     "name": "stdout",
     "output_type": "stream",
     "text": [
      "PUTRA NUSA\n",
      "NIVERSITAS N SA P TRA S KAB MI\n",
      "SUKABUMI PUTRA NUSA UNIVERSITAS\n",
      "UNPS\n",
      "TAS SA PU BUMI\n"
     ]
    }
   ],
   "source": [
    "kampus = \"UNIVERSITAS NUSA PUTRA SUKABUMI\"\n",
    "inisial = kampus.split()\n",
    "\n",
    "print(kampus[17:-9],kampus[12:-15])\n",
    "print(kampus[1:13],kampus[14:18],kampus[19:24],kampus[-6:-3],kampus[-2:])\n",
    "print(kampus[-8:],kampus[17:-9],kampus[12:-15],kampus[:11])\n",
    "print(f\"{inisial[0][0]}{inisial[1][0]}{inisial[2][0]}{inisial[3][0]}\")\n",
    "print(kampus[8:12]+kampus[14:19],kampus[-4:])"
   ]
  },
  {
   "cell_type": "code",
   "execution_count": null,
   "id": "3039f4ac-6313-4282-bb8a-0a0f228c3653",
   "metadata": {},
   "outputs": [],
   "source": []
  }
 ],
 "metadata": {
  "kernelspec": {
   "display_name": "Python 3 (ipykernel)",
   "language": "python",
   "name": "python3"
  },
  "language_info": {
   "codemirror_mode": {
    "name": "ipython",
    "version": 3
   },
   "file_extension": ".py",
   "mimetype": "text/x-python",
   "name": "python",
   "nbconvert_exporter": "python",
   "pygments_lexer": "ipython3",
   "version": "3.11.7"
  }
 },
 "nbformat": 4,
 "nbformat_minor": 5
}
