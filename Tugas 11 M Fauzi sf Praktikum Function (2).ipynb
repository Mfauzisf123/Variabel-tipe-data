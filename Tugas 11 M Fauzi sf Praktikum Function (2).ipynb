{
  "metadata": {
    "kernelspec": {
      "name": "python",
      "display_name": "Python (Pyodide)",
      "language": "python"
    },
    "language_info": {
      "codemirror_mode": {
        "name": "python",
        "version": 3
      },
      "file_extension": ".py",
      "mimetype": "text/x-python",
      "name": "python",
      "nbconvert_exporter": "python",
      "pygments_lexer": "ipython3",
      "version": "3.8"
    }
  },
  "nbformat_minor": 5,
  "nbformat": 4,
  "cells": [
    {
      "id": "558ec5b1-9e8c-43f7-afb2-95c152127a66",
      "cell_type": "markdown",
      "source": "<h1>Pengertian</h1>",
      "metadata": {}
    },
    {
      "id": "dea7d083-6c8f-4320-b195-53d8833a908d",
      "cell_type": "markdown",
      "source": "1. Fungsi pada Phyton adalah kumpulan perintah atau baris kode yang dikelompokan menjadi satu kesatuan untuk kemudian bisa dipanggil atau digunakan berkali kali\n2. sebuah fungsi dapat menerima parameter,dapat mengembalikan suatu nilai,dan dapat dipanggil berkali kali secara independen",
      "metadata": {}
    },
    {
      "id": "67ad1482-99c8-4a9f-8147-c27d1d6d6bbd",
      "cell_type": "markdown",
      "source": "## Keuntungan",
      "metadata": {}
    },
    {
      "id": "e1df7f95-6453-45e2-933a-92f3045c72d7",
      "cell_type": "markdown",
      "source": "1. membagi kode program menjadi bagian bagian kecil dengan tugasnya masing - masing\n2. membuat kode program menjadi lebih \"reusable\" dan lebih terstruktur",
      "metadata": {}
    },
    {
      "id": "0c1fc4d8-3abb-4038-9eac-23ed5fe85a98",
      "cell_type": "markdown",
      "source": "## Sintaks",
      "metadata": {}
    },
    {
      "id": "549225b7-e100-4d01-98b2-f1c3ac376543",
      "cell_type": "code",
      "source": "def function_name():\n    Logic Program\ncara memanggil fungsi dengan menuliskan fuction_name  diikuti kurang buka tutup () beserta parameter jika ada \n    function_name()",
      "metadata": {},
      "outputs": [],
      "execution_count": null
    },
    {
      "id": "475d98a4-b082-4951-b8ea-216ad65f75da",
      "cell_type": "markdown",
      "source": "buatlah fungsi dengan nama \"helloPython\" yang berfungsi untuk mencetak \"welcome in Phython Language\"",
      "metadata": {}
    },
    {
      "id": "e94d2eee-4155-4740-bc77-33bd6218ac07",
      "cell_type": "code",
      "source": "def hello_python():\n    print(\"welcome in Python Language\")\n\nhello_python()",
      "metadata": {},
      "outputs": [
        {
          "name": "stdout",
          "output_type": "stream",
          "text": [
            "welcome in Python Language\n"
          ]
        }
      ],
      "execution_count": 6
    },
    {
      "id": "f981d4aa-cc3c-4956-a07a-80f1aa4ff1cc",
      "cell_type": "markdown",
      "source": "## Fungsi dengan parameter ",
      "metadata": {}
    },
    {
      "id": "a0fb6689-de7c-4ee0-95c9-880c52221ee9",
      "cell_type": "markdown",
      "source": "Sebuah Fungsi dapat menerima paramater ataupun argumen yang merupakan suatu nilai/variabel yang dilemparkan ke dalam fungsi untuk diproses lebih lanjut",
      "metadata": {}
    },
    {
      "id": "c37e22f6-2e8c-4c6d-b91e-0958a0d93999",
      "cell_type": "markdown",
      "source": "## sintaks",
      "metadata": {}
    },
    {
      "id": "e735e15e-b741-4ee5-a048-70c78fbc82ce",
      "cell_type": "code",
      "source": "def function_name(param)\n    Logic_Program\ncara memanggil fungsi dengan menuliskan function_name diiikuti kurung buka tutup () beserta parameter \n\nfunction_name(param)",
      "metadata": {},
      "outputs": [],
      "execution_count": null
    },
    {
      "id": "0472f5fa-d87b-465c-bb76-cc2457e82d94",
      "cell_type": "markdown",
      "source": "Buatlah fungsi dengan nama \"fullname\" yang mempunyai parameter \"firstname\" dan \"lastname\" digunakan untuk mencetak \"firstname\" dan \"lastname\"",
      "metadata": {}
    },
    {
      "id": "dd8decc3-175d-4620-bcac-f433120119af",
      "cell_type": "code",
      "source": "def fullname(x,y):\n    print(f\"His First Name Is : {x}\")\n    print(f\"His Last Name Is : {y}\")\n\nfullname(\"fauzi\",\"fraja\")",
      "metadata": {
        "trusted": true
      },
      "outputs": [
        {
          "name": "stdout",
          "text": "His First Name Is : fauzi\nHis Last Name Is : fraja\n",
          "output_type": "stream"
        }
      ],
      "execution_count": 1
    },
    {
      "id": "efc33f8b-e7bb-451b-94cd-250d6b545c49",
      "cell_type": "markdown",
      "source": "Parameter fungsi diperbolehkan menggunakan lebih fungsi diperbolehkan menggunakan lebih dari 1,dimana parameter tersebut ada yang wajib harus diisi dan ada yang tidak harus diisi\ndef function_name (param_1,param_2,param_3...):\n    Logic Program\ncara memanggil fungsi dengan menuliskan function_name diikuti kurung buka tutup () beserta parameter \n    Function_name (param_1, Param_2, param_3.....):",
      "metadata": {}
    },
    {
      "id": "c21a1baf-cd97-4c30-9d56-002549425e74",
      "cell_type": "markdown",
      "source": "Parameter fungsi diperbolehkan menggunakan lebih fungsi diperbolehkan menggunakan lebih dari 1,dimana parameter tersebut ada yang wajib harus diisi dan ada yang tidak harus diisi\ndef function_name (param_1,param_2,param_3...):\n    Logic Program\ncara memanggil fungsi dengan menuliskan function_name diikuti kurung buka tutup () beserta parameter \n    Function_name (param_1, Param_2, param_3.....):",
      "metadata": {}
    },
    {
      "id": "f0cf7c1d-d0e1-47c6-aa58-6ab05083f7b2",
      "cell_type": "markdown",
      "source": "Buatlah Fungsi dengan nama maxValue yang mempunyai parameter \"val_1\",\"val_2\" dan \"val_3\" yang bertujuan untuk mencari nilai terbesar dari 3 nilai tersebut",
      "metadata": {}
    },
    {
      "id": "06849993-1fc8-484e-a634-b50e19b1e926",
      "cell_type": "code",
      "source": "def max_value(val_1, val_2, val_3):\n    print(max(val_1, val_2, val_3))\n\nmax_value(22,1,4)",
      "metadata": {},
      "outputs": [
        {
          "name": "stdout",
          "output_type": "stream",
          "text": [
            "22\n"
          ]
        }
      ],
      "execution_count": 8
    },
    {
      "id": "2d7ff99c-24ef-477a-a3c6-1cbc25b98f1a",
      "cell_type": "markdown",
      "source": "parameter opsional digunakan pada fungsi dengan cara memberikan nilai default,artinya nilai parameter sudah diberikan terlebih dahulu tanpa dipanggil",
      "metadata": {}
    },
    {
      "id": "57bc47b0-9e52-4db7-9459-7c1816e07fe6",
      "cell_type": "code",
      "source": "def function_name(param_1, param_2, param_3 = \"Nilai\") : \n    Logic Program",
      "metadata": {},
      "outputs": [],
      "execution_count": null
    },
    {
      "id": "cf608eeb-9429-449a-bd04-8ebc03d14ead",
      "cell_type": "markdown",
      "source": "Buatlah Fungsi \"countCircleArea\" dengan 2 parameter yaitu \"phi\" dan \"diameter\" dimana paramether phi mempunyai nlai default 3.14 ",
      "metadata": {}
    },
    {
      "id": "6ad0e11a-fb13-481b-9927-ecd88fc26883",
      "cell_type": "code",
      "source": "def lingkaran(diameter,phi =3.14):\n    Luas = phi * diameter *diameter\n    print(f\"Luas Lingkaran : \",Luas)\n\nlingkaran(5)",
      "metadata": {},
      "outputs": [
        {
          "name": "stdout",
          "output_type": "stream",
          "text": [
            "Luas Lingkaran :  78.5\n"
          ]
        }
      ],
      "execution_count": 10
    },
    {
      "id": "09af40b2-f71f-45d3-b67b-b0f3933376cd",
      "cell_type": "markdown",
      "source": "Fungsi dengan 2 parameter opsional juga dapat dilakukan pada phyton.",
      "metadata": {}
    },
    {
      "id": "c38c979f-aa53-459e-a070-2577d5808964",
      "cell_type": "code",
      "source": "def info(suhu,daerah=\"Manchester\",satuan = \"Celcius\"):\n    Print (f\"suhu sekarang di {daerah} : {suhu} {satuan} \")\n    ",
      "metadata": {},
      "outputs": [],
      "execution_count": null
    },
    {
      "id": "6d4f5d97-f60e-4c52-acfb-51bb29ed7172",
      "cell_type": "markdown",
      "source": "adapun cara memanggilnya",
      "metadata": {}
    },
    {
      "id": "23a7f787-f40c-49e1-8a51-94b7fbef4e2b",
      "cell_type": "code",
      "source": "def info(suhu,daerah=\"Manchester\",satuan=\"Celcius\"):\n    print(f\"suhu sekarang di {daerah} : {suhu} {satuan} \")\n\ninfo(29)",
      "metadata": {},
      "outputs": [
        {
          "name": "stdout",
          "output_type": "stream",
          "text": [
            "suhu sekarang di Manchester : 29 Celcius \n"
          ]
        }
      ],
      "execution_count": 14
    },
    {
      "id": "fa45d454-6e5c-44af-a97d-e7a14f824e04",
      "cell_type": "markdown",
      "source": "## Fungsi Dengan return Value ",
      "metadata": {}
    },
    {
      "id": "ab0563a9-9177-4c65-a224-07d52fcd0e6f",
      "cell_type": "markdown",
      "source": "yaitu fungsi nama dimana akhir dari programnya adalah nilai kembalian atau nilai balik. artinya nilai dalam fungsi dapat ditampung lagi ke variabel lain untuk digunakan operasi lebih lanjut.",
      "metadata": {}
    },
    {
      "id": "b1f8302c-78c4-493e-a7d7-25c85b32a3f9",
      "cell_type": "markdown",
      "source": "Buatlah Fungsi dengan return value yang digunakan untuk mengecek sebuah bilangan termasuk bilangan negatif,bilangan netral(0) dan bilangan positif ",
      "metadata": {}
    },
    {
      "id": "f9a2d389-23f9-4ae1-ba50-8fbb1c5d6816",
      "cell_type": "code",
      "source": "def cek_angka(angka):\n    if angka < 0:\n        return \"ini Negatif\"\n\n    elif angka == 0:\n        return \"ini Netral\"\n\n    else :\n        return \"ini Positif\"\n\nprint(cek_angka(-5))\nprint(cek_angka(0))\nprint(cek_angka(15))\nprint(cek_angka(-22))",
      "metadata": {},
      "outputs": [
        {
          "name": "stdout",
          "output_type": "stream",
          "text": [
            "ini Negatif\n",
            "ini Netral\n",
            "ini Positif\n",
            "ini Negatif\n"
          ]
        }
      ],
      "execution_count": 17
    },
    {
      "id": "0c66cb10-b514-4800-9b4e-32d96188b2db",
      "cell_type": "markdown",
      "source": "### Soal Latihan",
      "metadata": {}
    },
    {
      "id": "d7eb0c39-6242-467e-94df-e64325bc5fba",
      "cell_type": "markdown",
      "source": "1. Buatlah fungsi untuk menjumlahkan total nilai dari list \n2. buatlah fungsi untuk mencari nilai terbesar dari sekumpulan list\n3. buatlah fungsi untuk menjumlahkan 2 buah list",
      "metadata": {}
    },
    {
      "id": "70a6c996-80b5-4c99-9cc9-95c4f437a752",
      "cell_type": "code",
      "source": "#soal 1\ndef nilai(angka):\n    total = sum(angka)\n    return total \n\nlist =[2,3,4,6,7]\ntotal_jum = nilai(list)\nprint (f\"total nilai adalah =\", total_jum)",
      "metadata": {},
      "outputs": [
        {
          "name": "stdout",
          "output_type": "stream",
          "text": [
            "total nilai adalah = 22\n"
          ]
        }
      ],
      "execution_count": 22
    },
    {
      "id": "c90694c7-77e8-44f3-8d36-61fc979f6822",
      "cell_type": "code",
      "source": "#soal 2\ndef nilai_terbesar(number):\n    besar =max(number)\n    return besar \n\nnumbers = [5,15,22,50,7]\nterbesar = nilai_terbesar(numbers)\nprint(f\"angka terbesar adalah =\", terbesar)",
      "metadata": {},
      "outputs": [
        {
          "name": "stdout",
          "output_type": "stream",
          "text": [
            "angka terbesar adalah = 50\n"
          ]
        }
      ],
      "execution_count": 23
    },
    {
      "id": "b491de49-18eb-4ce3-afad-f18c1cc1717c",
      "cell_type": "code",
      "source": "#soal 3\nlist1= [2,4,6,8]\nlist2= [1,3,5,7]\ndef jum_list(list_1,list_2):\n    hasil = []\n    for a,b in zip(list_1,list_2):\n        hasil.append(a + b)\n\n    return hasil\n\nhasil_penjumlahan = jum_list(list1, list2)\nprint(\"hasil Penjumlahan:\", hasil_penjumlahan)\n",
      "metadata": {},
      "outputs": [
        {
          "name": "stdout",
          "output_type": "stream",
          "text": [
            "hasil Penjumlahan: [3, 7, 11, 15]\n"
          ]
        }
      ],
      "execution_count": 24
    },
    {
      "id": "b36fdcdb-10d5-43c0-8f21-dbd121e23c3a",
      "cell_type": "code",
      "source": "",
      "metadata": {},
      "outputs": [],
      "execution_count": null
    }
  ]
}